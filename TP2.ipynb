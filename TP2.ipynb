{
 "cells": [
  {
   "cell_type": "markdown",
   "metadata": {},
   "source": [
    "# Trabajo práctico 2\n",
    "## Alumnos\n",
    "\n",
    "* Garibaldi Anele\n",
    "* Vergara Marcos"
   ]
  },
  {
   "cell_type": "markdown",
   "metadata": {},
   "source": [
    "**<h1><center>Parte 1: TCP Fundamentos</center></h1>**"
   ]
  },
  {
   "cell_type": "markdown",
   "metadata": {},
   "source": [
    "###    1. Dos aplicaciones en las máquinas A y B intercambian datos utilizando el protocolo TCP.\n",
    "    a) Durante el intercambio de datos entre A y B, luego de establecida la conexión, la máquina A no recibe una confirmación de B sobre su ultimo envío, por lo que retransmite el segmento no confirmado. Al cabo de un tiempo, B recibe las dos copias del segmento tal como A las envió. ¿B detecta que se trata de dos copias de la misma información? Justifique su respuesta.\n",
    "    \n",
    "    b) Suponga que la conexión TCP que A inició con B, es una sesión telnet, (o sea que A se conectará al puerto 23 de B). ¿Es posible que A inicie una segunda conexión TCP hacia el puerto 23 de B, manteniendo la primera conexión activa? Justifique su respuesta e indique, en caso de ser posible, cómo diferenciará A y B los segmentos correspondientes a cada una de las conexiones."
   ]
  },
  {
   "cell_type": "markdown",
   "metadata": {},
   "source": [
    "### 1. Respuesta\n",
    "a) El receptor **B** puede detectar que se encarga de un segmento duplicado gracias al numero de secuencia del paquete. Al ser reenviado el mismo segmento tcp su numero de secuencia no cambia, por lo que el receptor B puede detectarlo como paquete duplicado.\n",
    "\n",
    "B) Es posible que el cliente, en este caso **A** se conecte nuevamente con el host B. En el caso de contar con mas de una coneccion por parte del cliente, las conecciones se realizan por *distintos* puertos de salida debido a que el cliente no especifica su propio puerto para salida de la coneccion, sino que el sistema elige uno disponible aleatoriamente situado entre los puertos 1024 y 65535."
   ]
  },
  {
   "cell_type": "markdown",
   "metadata": {},
   "source": [
    "<hr style=\"height:1px; border:none; color:#000; background-color:#000;\">\n",
    "<hr style=\"height:1px; border:none; color:#000; background-color:#000;\">"
   ]
  },
  {
   "cell_type": "markdown",
   "metadata": {},
   "source": [
    "### 2. Responda: Verdadero o Falso y justifique.\n",
    "El uso de ventanas de un protocolo:\n",
    "\n",
    "    a) Permite aumentar la eficiencia de la transmisión.\n",
    "    b) Garantiza el control de errores.\n",
    "    c) Requiere la identificación de las tramas.\n",
    "    d) Disminuye el overhead del protocolo.\n",
    "    e) Realiza el control de CRC.\n",
    "    f) No acepta paquetes fuera de orden."
   ]
  },
  {
   "cell_type": "markdown",
   "metadata": {},
   "source": [
    "### 2. Respuesta\n",
    "\n",
    "la ventana de recepción se emplea para proporcionar al emisor una idea de cuánto espacio libre hay disponible en el buffer del receptor. Puesto que TCP es una conexión full-duplex, el emisor de cada lado de la conexión mantiene una ventana de recepción diferente.\n",
    "\n",
    "**ventanaRecepcion = BufferRecepcion – [UltimoByteRecibido – UltimoByteLeido]**\n",
    "\n",
    "aca la variable ventana de recepcion es variable porque depende de la cantidad de espacio que tenga el receptor de la conceccion.\n",
    "\n",
    "![imagen.png](img/ventana_recepcion.png)\n",
    "\n",
    "el receptor informa periodicamente cuanto espacio de recepcion de paquetes le va quedando a medida que llegan paquetes, el el campo **VENTANA DE RECEPCION** en la cabecera del segmento tcp\n",
    "\n",
    "En el emisor se encuentra la ventana de congestion, la cual es variable e indica la cantidad de segmentos que pueden ser enviados por parte del cliente en un momento dado de la coneccion. La ventana de congestion regula la velocidad de envio de paquetes tcp intentando evitar la congestion de la red y posible perdida de paquetes en el camino.\n",
    "\n",
    "a) Verdadero. Permite aumentar la eficiencia de la transmision debido a que el host de una coneccion establece con la variable **ventanaRecepcion** cuantos bytes de datos puede almacenar del cliente en un momento dado y asi evitar desbordamiento de datos en la recepcion y posible perdida de paquetes. Ademas se produce una menor congestion de la red trabajando a la capacidad optima de recepcion de paquetes por parte del host. Ademas la ventana de congestion regula la velocidad de envio de paquetes, lo que evita el congestionamiento de la red, la perdida de paquetes y el reenvio de paquetes perdidos.\n",
    "\n",
    "b) Falso. \n",
    "\n",
    "c) que son las tramas tcp?\n",
    "\n",
    "d) que es el overhead?\n",
    "\n",
    "e) que es CRC?\n",
    "\n",
    "f) Falso. En caso de la ventana de congestion se pueden recibir un ACK reconociendo multiples segmentos como recibidos."
   ]
  },
  {
   "cell_type": "markdown",
   "metadata": {},
   "source": [
    "<hr style=\"height:1px; border:none; color:#000; background-color:#000;\">\n",
    "<hr style=\"height:1px; border:none; color:#000; background-color:#000;\">"
   ]
  },
  {
   "cell_type": "markdown",
   "metadata": {},
   "source": [
    "### 3. Utilice el software Cliente – Servidor de la parte 2 del TP1 y lance el analizador de protocolos para observar la siguiente secuencia:\n",
    "    a) Establezca conexión entre el cliente y el servidor, enviando un campo de datos del orden de 10 caracteres. Cierre luego la conexión.\n",
    "    b) Indique la cantidad de paquetes circularon entre mbos extremos desde el inicio de la conexión hasta su cierre.\n",
    "    c) Observe e indique las banderas que se observan en el 3-Way y 4-Way de inicio y cierre de la conexión.\n",
    "    d) Indique el número de secuencia que se observa en ambos extremos al inicio de la conexión. Y la ventana de Flujo de ambos extremos.\n",
    "    e) Indique los números de secuencia que se observan para ambos extremos al término del 3-Way state (sin envío de datos). Qué le parece particular?\n",
    "    f) Indique los números de secuencia que se observan para ambos extremos al inicio del cierre de la conexión.\n",
    "    g) Indique los números de secuencia que se observan para ambos extremos al término del cierre de la conexión. Qué le parece particular?"
   ]
  },
  {
   "cell_type": "markdown",
   "metadata": {},
   "source": [
    "### 3. Respuesta\n",
    "    aca va la respuesta 3"
   ]
  },
  {
   "cell_type": "markdown",
   "metadata": {},
   "source": [
    "<hr style=\"height:1px; border:none; color:#000; background-color:#000;\">\n",
    "<hr style=\"height:1px; border:none; color:#000; background-color:#000;\">"
   ]
  },
  {
   "cell_type": "markdown",
   "metadata": {},
   "source": [
    "###     4. Dado el siguiente segmento TCP (se excluye la cabecera IP), enviado por un host A a otro B:\n",
    "    0402 0050 \n",
    "    0000 3298 \n",
    "    0000 0000\n",
    "    6002 2000\n",
    "    1303 0000\n",
    "    0204 05b4\n",
    "\n",
    "    a) Qué función cumple el segmento enviado?\n",
    "    b) Caracterice a los Hosts A y B como cliente/servidor.\n",
    "    c) Cuál será el número de secuencia que utilizará el Host A en el próximo segmento que le envíe a B?\n",
    "    d) Cuál es el servicio requerido?"
   ]
  },
  {
   "cell_type": "markdown",
   "metadata": {},
   "source": [
    "### 4. Respuesta\n",
    "\n",
    "Caracterizacion de un segmento TCP:\n",
    "\n",
    "![imagen.png](img/cabecera-tcp.png)\n",
    "\n",
    "**Puerto cliente**: 0402h = 1026d\n",
    "\n",
    "**Puerto destino**: 0050h = 80d\n",
    "\n",
    "**Nro secuencia**: 0000 3298h = 12952d\n",
    "\n",
    "**Acuse recibo (ACK)**: 0000 0000h = 0d\n",
    "\n",
    "luego tomamos primero los 16 bits de la izquierda **6002 2000** en los que se utilizan:\n",
    "\n",
    "    0110 0000 0000 0010\n",
    "    \n",
    "    primeros 4 bits (6h 0110): indican la posicion de los datos (data offset) = 6d\n",
    "    bits de 4 a 9 (0h 0000 00) = reservados \n",
    "    bits de 10 a 16 (00 0010) = FLAGS. En este caso solo esta activo el flag SYN\n",
    "\n",
    "**Tamaño de ventana** : 2000h = 8192d\n",
    "\n",
    "**Checksum**: 1303h = 4867d\n",
    "\n",
    "**Urgent Pointer**: 0000h = 0d\n",
    "\n",
    "**Opciones**: 020405h =\n",
    "\n",
    "**Relleno**: b4H =\n",
    "\n",
    "\n",
    "\n",
    "**Numero de secuencia** enviado de <strong>A</strong> a <strong>B</strong> = 00003298h = 12952d\n",
    "\n",
    "a) El segmento se corresponde a la primer etapa de un **3-Way Handshake** debido a que posee el bit SYN en 1.\n",
    "\n",
    "b) El host A es el *cliente* en este caso debido a que el segmento es enviado de <strong>A</strong> a <strong>B</strong> y a es quien inicia el protocolo **3-Way Handshake**. (Indicado por el bit **SYN** en 1)\n",
    "\n",
    "c) **CONSULTAR**\n",
    "\n",
    "d) Debido a que <strong>A</strong> esta caracterizado como el *cliente* de la coneccion, y la peticion al host <strong>B</strong> se hace al puerto **80** podemos suponer que se trata de un servicio HTTP ubicado en ese puerto del host.\n",
    "\n"
   ]
  },
  {
   "cell_type": "markdown",
   "metadata": {},
   "source": [
    "<hr style=\"height:1px; border:none; color:#000; background-color:#000;\">\n",
    "<hr style=\"height:1px; border:none; color:#000; background-color:#000;\">"
   ]
  },
  {
   "cell_type": "markdown",
   "metadata": {},
   "source": [
    "### 5. Resolver:\n",
    "    a) Suponga que la ventana de congestión de TCP está en 18 Kbytes. La ventana publicada por el otro extremo es de 64 Kbyte. ¿A qué valor llegará dicha ventana si los siguientes 5 segmentos transmitidos resultan exitosos y no se recibió aún ningún ACK? Suponga un tamaño máximo de segmento de 2 Kbytes.\n",
    "    \n",
    "    b) Suponga ahora que luego de transmitir los 5 segmentos exitosos llega un ACK acumulativo reconociendo tres paquetes y que el umbral se encuentra en 12Kbytes. A qué valor llegará la ventana de congestión."
   ]
  },
  {
   "cell_type": "markdown",
   "metadata": {},
   "source": [
    "### 5.  Respuesta\n",
    "\n",
    "a) En caso de que los segmentos hayan sido enviados por el cliente y recibidos por el host pero se hayan perdido los ACK enviados por el host hacia el cliente pueden quedar tanto la *ventana de congestion* como la *ventana de recepcion* de la siguiente manera:\n",
    "\n",
    "Ventana de congestion: El cliente interpreta que los segmentos enviados se han perdido por el vencimiento del timeout. por lo que si estaba en etapa de **congestion avoidance** el tamaño de ventana de congestion se fija a 1MSS y se fija el tamaño del umbral a la mitad de la ventana de congestion cuando se produjo el fallo, es decir **Umbral = 18 kbytes/2 = 9kbytes** y se arranca en la etapa **slow start** hasta alcanzar el valor umbral.\n",
    "\n",
    "Ventana de recepcion: el host destino de la coneccion recibe los 5 segmentos de manera correcta, por lo que su ventana de recepcion fijada en **64kbytes** se disminuye en = **5 segmentos * 2kbytes C/U = 10kbytes** o sea que la ventana de recepcion queda en = **64kbytes - 10kbytes = 54kbytes**\n",
    "\n",
    "\n",
    "\n",
    "b) Ahora suponemos que el cliente de la coneccion recibe 1 ACK acumulativo reconociendo 3 de los 5 segmentos enviados. En este caso, suponiendo que estamos en etapa **Congestion Avoidance** y que detectamos perdidas de paquetes por vencimiento de timeout debemos calcular:\n",
    "\n",
    "como el cliente ha recibido 1 ACK acumulativo, incrementa su **ventana de congestion** en 1MSS por cada ACK recibido. en este caso solo aumenta en **1 MSS** quedando la ventana de congestion en **20 kbytes (cada segmento ocupa 2kbytes)**.\n",
    "\n",
    "Ventana de congestion: **20 kbytes**\n",
    "\n",
    "Umbral: al momento de detectar perdida de paquetes la ventana de congestion es de 20kbytes entonces **Umbral = 10kbytes**"
   ]
  },
  {
   "cell_type": "markdown",
   "metadata": {},
   "source": [
    "### 6. Determine el tamaño óptimo de ventana para una sesión TCP en la  que el RTT=100mseg, MSS=600 bytes y velocidad de la interfase 128 Kbps."
   ]
  },
  {
   "cell_type": "markdown",
   "metadata": {},
   "source": [
    "### 6. Respuesta\n",
    "\n",
    "------------------------ ESTO ESTA MAL---------------------------------------------\n",
    "Un tamaño optimo de ventana deriba del siguiente calculo.\n",
    "\n",
    "1° calculamos la velocidad promedio para un segmento tcp:\n",
    "\n",
    "        v = MSS/RTT = 600 Bytes/0,1 Seg = 6000 bytes/Seg\n",
    "\n",
    "2° aplicamos regla de 3 para obtener, segun la velocidad del enlace, cuanta cantidad de paquetes enviados soporta el enlace:\n",
    "\n",
    "         6000 Bytes/Seg ------_>  1 segmento\n",
    "        16000 Bytes/Seg ------->  X segmentos = 2,66\n",
    "\n",
    "La cuenta da como tamaño de ventana aproximado 2,66 segmentos.\n",
    "\n",
    "-------------------------------------------------------------------------------------\n",
    "\n",
    "\n",
    "\n",
    "\n"
   ]
  },
  {
   "cell_type": "markdown",
   "metadata": {},
   "source": [
    "<hr style=\"height:1px; border:none; color:#000; background-color:#000;\">\n",
    "<hr style=\"height:1px; border:none; color:#000; background-color:#000;\">"
   ]
  },
  {
   "cell_type": "markdown",
   "metadata": {},
   "source": [
    "### 7. Qué mejora aporta el mecanismo de retransmisión rápida (fast retransmit) de TCP? Indique si aporta mejora, si la empeora o si es indiferente. Justifique.\n",
    "    a). Permite que no llegue a ocurrir congestión en la red.\n",
    "    b). Permite que un proceso detecte que hay congestión antes de que esta alcance un valor demasiado alto.\n",
    "    c). Permite que la ventana de recepción pueda ser más grande.\n",
    "    d). Aumenta la Eficiencia de la comunicación.\n",
    "    e). Permite que la congestión ocurra antes."
   ]
  },
  {
   "cell_type": "markdown",
   "metadata": {},
   "source": [
    "### 7. Respuesta\n",
    "\n",
    "Retransmision rapida:\n",
    "\n",
    "    a) La congestion ocurre por diferentes motivos no vinculados directamente al mecanismo de retransmision rapida.\n",
    "        puede ser por congestion de la red o congestion de los nodos que reciben la coneccion.\n",
    "    b) Es indiferente.\n",
    "    c) Es indiferente. la retransmision rapida no afecta los tamaños de ventana.\n",
    "    d) Verdadero. si un emisor TCP recibe tres acuses de recibo duplicados con el mismo número de acuse de recibo (esto es, un total de cuatro acuses de recibo (primer acuse y tres duplicados) con el mismo número de acuse de recibo), el emisor puede estar razonablemente seguro de que el segmento con el siguiente número de secuencia se ha perdido, y no que llegará desordenado. El emisor retransmitirá el paquete que se supone perdido sin esperar a que expire su temporizador.\n",
    "    e) Falso. hace que los paquetes circulen antes por la red. congestionando aun mas en caso de estar congestionada la red.    "
   ]
  },
  {
   "cell_type": "markdown",
   "metadata": {},
   "source": [
    "<hr style=\"height:1px; border:none; color:#000; background-color:#000;\">\n",
    "<hr style=\"height:1px; border:none; color:#000; background-color:#000;\">"
   ]
  },
  {
   "cell_type": "markdown",
   "metadata": {},
   "source": [
    "### 8. Supongamos tener una situación en la cual se observa que al realizar una transferencia de archivo por FTP entre dos nodos, se observa que la transferencia efectiva de los datos es excesivamente lenta para el ancho de banda disponible. O sea que el ancho de banda consumido por la transferencia del archivo es muy pequeño si se compara con el ancho de banda total disponible entre los dos nodos. En cada uno de los casos siguientes, indique si la solución propuesta serviría para mejorar la situación y porqué (cómo afecta positiva o negativamente a la mejora de la velocidad de transferencia, o cómo no tiene ninguna influencia). Si los efectos de la solución dependen de otros parámetros no especificados, indiquese cuáles son estos.\n",
    "    a) Se observa que la latencia de la red (retardo de transmisión) entre los dos procesos es muy alta. Como solución se propone aumentar el tamaño de la ventana de TCP en ambos nodos.\n",
    "    \n",
    "    b) Se observa que se están perdiendo muchos paquetes debido a errores en la red. Sin embargo, la latencia es muy baja. Como solución se propone disminuir el timeout de espera por asentimientos en los dos nodos.\n",
    "    \n",
    "    c) Se observa que se están reenviando muchos paquetes innecesariamente, porque los paquetes “originales” han llegado a destino. Como solución se propone aumentar el tamaño de la ventana de TCP en ambos nodos.\n",
    "    \n",
    "    d) Se observa que durante largos períodos cesa la emisión por llenarse la ventana de TCP del emisor. Como solución se propone disminuir el tamaño de la ventana del emisor y aumentar el plazo de espera por asentimientos."
   ]
  },
  {
   "cell_type": "markdown",
   "metadata": {},
   "source": [
    "### 8."
   ]
  },
  {
   "cell_type": "markdown",
   "metadata": {},
   "source": [
    "<hr style=\"height:1px; border:none; color:#000; background-color:#000;\">\n",
    "<hr style=\"height:1px; border:none; color:#000; background-color:#000;\">"
   ]
  },
  {
   "cell_type": "markdown",
   "metadata": {},
   "source": [
    "**<center><h1>Parte 2: TCP Análisis de Segmentos</h1></center>**"
   ]
  },
  {
   "cell_type": "markdown",
   "metadata": {},
   "source": [
    "###     9. De los escenarios A. a F., en los cuales las líneas punteadas representan tics de reloj, resuelva sólo 2 o 3 de las situaciones planteadas, según se le inquique. Año 2016: A – C – E.\n",
    "\n",
    "#### A. Complete la secuencia de envío de segmentos TCP reflejada en la figura, incluyendo el cierre de la conexión, sabiendo que:\n",
    "    • No se perderá ningún segmento en la transmisión excepto el cuarto con datos enviado por A.\n",
    "    • Los segmentos no dibujados (excepto el anteriormente citado) tardarán en llegar al destino hasta un tic de reloj y no se perderán.\n",
    "    • A está utilizando arranque lento (Slow Start) para prevenir la congestión.\n",
    "    • A tiene que enviar a B 800 bytes de datos, una vez enviados procederá cerrar la conexión.\n",
    "    • B no desea enviar datos a A.\n",
    "    • B enviará asentimientos a A cuando haya recibido dos segmentos de A desde el ultimo segmento asentido o cuando haya sucedido 1 tic de reloj desde desde el ultimo segmento recibido.\n",
    "    • El plazo de retransmisión de segmentos en A (timeout) es de 3 tics de reloj.\n",
    "    • A usa un tamaño fijo de datos de 200 bytes.\n",
    "    • B siempre enviará un valor de 800 en el campo de tamaño de la ventana de recepción.\n",
    "    • Tanto A como B sólo transmiten segmentos coincidiendo con el tic de reloj.\n",
    "    • A enviará segmentos con datos siempre que pueda.\n",
    "\n",
    "![imagen.png](img/imagen1.jpg)"
   ]
  },
  {
   "cell_type": "markdown",
   "metadata": {},
   "source": [
    "#### B. En la secuencia de envío de segmentos TCP reflejada en la figura, se sabe que ni A ni B quieren ya enviar más datos. Agregue los segmentos que faltan para que la conexión quede cerrada adecuadamente, suponiendo:\n",
    "    • Los segmentos que no se pierden, tardan en llegar al receptor hasta un tic de reloj.\n",
    "    • El plazo (Timeout) en que las máquinas esperan a que llegue un ACK es de 5 tics del reloj.\n",
    "    • A partir de lo ultimo dibujado en la figura, ya no se perderán más segmentos.\n",
    "    • B no haría nada hasta que le llegue otro segmento de A, momento en que responderá inmediatamente (en el siguiente tic de reloj) con un ACK.\n",
    "    \n",
    "![imagen.png](img/imagen2.jpg)"
   ]
  },
  {
   "cell_type": "markdown",
   "metadata": {},
   "source": [
    "####     C. En la figura se detalla la secuencia completa de envío de segmentos en una conexión TCP entre A y B (incluyendo apertura y cierre de la misma). Rellene los campos que faltan en la figura para que la misma tenga sentido, suponiendo que:\n",
    "    • El plazo en que las máquinas esperan a que llegue un ACK es de 5 tics del reloj.\n",
    "\n",
    "![imagen.png](img/imagen3.png)"
   ]
  },
  {
   "cell_type": "markdown",
   "metadata": {},
   "source": [
    "####     D. En la secuencia de envío de segmentos TCP reflejada en la figura, en la que las líneas horizontales representan tics de reloj, se sabe que:\n",
    "    • A desea enviar a B la cadena de caracteres “EXAMEN”. B no tiene datos que enviar a A\n",
    "    • A usa un tamaño máximo de datos de 2 caracteres.\n",
    "    • Tanto A como B solo transmiten segmentos al principio del tic de reloj.\n",
    "    • Los segmentos que no se pierden, tardan en llegar al receptor hasta un tic de reloj.\n",
    "    • A tiene un plazo para retransmitir segmentos de 5 tics de reloj.\n",
    "    • A partir de los ultimos segmentos dibujados en la figura:\n",
    "        ◦ A enviará segmentos con datos siempre que pueda.\n",
    "        ◦ B enviará un asentimiento cada vez que reciba un segmento de A, y ya no cambiará el tamaño de la ventana.\n",
    "        ◦ Además del dibujado con el recuadro en blanco, el próximo segmento que envie B también se perderá.\n",
    "        ◦ No se perderá ningún otro segmento transmitido por A ni B.\n",
    "Completar la transmisión en la figura (incluyendo el cierre de conexión) sin olvidar rellenar el recuadro en blanco.\n",
    "\n",
    "![imagen.png](img/imagen4.png)"
   ]
  },
  {
   "cell_type": "markdown",
   "metadata": {},
   "source": [
    "####     E.  En la secuencia de envío de segmentos TCP reflejada en la figura, en la que las líneas horizontales representan tics de reloj, se sabe que:\n",
    "##### CASO 1:\n",
    "    • A desea enviar a B la cadena de caracteres “ADIOS-A-TODOS”. B no tiene datos que enviar a A.\n",
    "    • El la comunicación existe control de Flujo y Congestión.\n",
    "    • A usa un tamaño máximo de datos de 4 caracteres.\n",
    "    • Tanto A como B sólo transmiten segmentos al principio del tic de reloj.\n",
    "    • Los segmentos que no se pierden, tardan en llegar al receptor hasta un tic de reloj.\n",
    "    • Por Timeots en el receptor, los reconocimientos pueden ser acumulativos de hasta dos paquetes por vez.\n",
    "    • A tiene un tiempo para retransmitir segmentos de 5 tics de reloj.\n",
    "    • A partir de los últimos segmentos dibujados en la figura:\n",
    "        ◦ A enviará segmentos con datos siempre que pueda.\n",
    "        ◦ B enviará un asentimiento inmediatamente cada vez que reciba un segmento de A y ya no cambiará el tamaño de la ventana.\n",
    "        ◦ No se perderá ningún otro segmento transmitido por A ni B.\n",
    "##### CASO 2:\n",
    "    • Los mismos requisitos que el Caso 1, sólo que A usa un tamaño máximo de datos de 2 caracteres y un Timeout de retransmisión de 7 Tics de reloj.\n",
    "\n",
    "Completar la transmisión en la figura (incluyendo el cierre de conexión).\n",
    "\n",
    "![imagen.png](img/imagen5.png)"
   ]
  },
  {
   "cell_type": "markdown",
   "metadata": {},
   "source": [
    "####    F. En la secuencia de envío de segmentos TCP reflejada en la figura, se sabe que:\n",
    "    • A desea enviar a B 200 bytes de datos. B desea enviar a A 100 bytes de datos.\n",
    "    • A y B usan un tamaño fijo de datos de 50 bytes.\n",
    "    • A y B ajustan la ventana acorde con “congestion avoidance”.\n",
    "    • Tanto  A  como  B  sólo  transmiten  segmentos  coincidiendo  con  el  tic de reloj.\n",
    "    • Los segmentos que no se pierden, tardan en llegar al receptor hasta un tic de reloj.\n",
    "    • A  y  B  tienen  un  plazo  para  retransmitir  segmentos  de  5  tics  de reloj.\n",
    "    • A y B enviarán segmentos con datos siempre que puedan y enviarán un asentimiento cada vez que reciban un segmento con datos.\n",
    "Teniendo en cuenta que la zona sombreada indica un periodo de tiempo  durante  el  cual todos los segmentos transmitidos se perderán y que fuera de dicho período no se perderá  ningún segmento, complete la transmisión en la figura (incluyendo el cierre de conexión).\n",
    "\n",
    "![imagen.png](img/imagen6.jpg)"
   ]
  },
  {
   "cell_type": "markdown",
   "metadata": {},
   "source": [
    "**<center><h1>Parte 3: TCP Análisis de Trama</h1></center>**"
   ]
  },
  {
   "cell_type": "markdown",
   "metadata": {},
   "source": [
    "####     10. Análisis de capturas de tráfico de red e interpretación del mismo. Ahora vamos a estudiar e interpretar el segmento TCP que se encuentra dentro del paquete IP capturado.\n",
    "    A continuación una salida TCPDump de una conexión cualquiera.\n",
    "\n",
    "![imagen.png](img/imagen7.jpg)\n",
    "\n",
    "    Debe distinguir las partes que a continuación se mencionan.\n",
    "\n",
    "    a. Cabecera IP:\n",
    "    b. Segmento TCP:\n",
    "    c. Datos (incluye Opciones y Campo Relleno):\n",
    "    d. Puerto origen:\n",
    "    e. Puerto destino:\n",
    "    f. Número de secuencia:\n",
    "    g. Número de acuse de recibo:\n",
    "    h. Posición de los datos (Data Offset):\n",
    "    i. Campo reservado:\n",
    "    j. Bits de código o indicadores. (6 bits):\n",
    "    k. Window (ventana):\n",
    "    l. Checksum o suma de vdrificación:\n",
    "    m. Urgent Pointer o Puntero urgente:\n",
    "    n. Opciones:\n",
    "    o. Relleno:"
   ]
  },
  {
   "cell_type": "markdown",
   "metadata": {},
   "source": [
    "#### 11. Se realizó la captura de las siguientes tramas Ethernet. (tenga en cuenta que se extrajeron los bytes de preámbulo). Se pide: Analizar los campos relevantes de la información de nivel de transporte que contienen.\n",
    "\n",
    "![imagen.png](img/imagen8.png)    "
   ]
  }
 ],
 "metadata": {
  "kernelspec": {
   "display_name": "C",
   "language": "c",
   "name": "c_spec"
  },
  "language_info": {
   "file_extension": ".c",
   "mimetype": "text/plain",
   "name": "c"
  }
 },
 "nbformat": 4,
 "nbformat_minor": 2
}
