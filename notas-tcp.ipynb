{
 "cells": [
  {
   "cell_type": "markdown",
   "metadata": {},
   "source": [
    "# TCP"
   ]
  },
  {
   "cell_type": "markdown",
   "metadata": {},
   "source": [
    " * [Arranque Lento en TCP](http://packetlife.net/blog/2011/jul/5/tcp-slow-start/)\n",
    " * [Escalamiento de ventana en TCP](http://packetlife.net/blog/2010/aug/4/tcp-windows-and-window-scaling/)\n",
    " * [Números de acentimiento en TCP](http://packetlife.net/blog/2010/jun/7/understanding-tcp-sequence-acknowledgment-numbers/)\n",
    " * [Uso de Banderas PSH y URG](http://packetlife.net/blog/2011/mar/2/tcp-flags-psh-and-urg/)\n",
    " * [Análisis de control de congestión en TCP](https://es.scribd.com/doc/55589000/An-Analysis-of-TCP-Congestion-Control-Mechanisms-using-Wireshark)"
   ]
  },
  {
   "cell_type": "code",
   "execution_count": null,
   "metadata": {},
   "outputs": [],
   "source": []
  }
 ],
 "metadata": {
  "kernelspec": {
   "display_name": "Python 3",
   "language": "python",
   "name": "python3"
  },
  "language_info": {
   "codemirror_mode": {
    "name": "ipython",
    "version": 3
   },
   "file_extension": ".py",
   "mimetype": "text/x-python",
   "name": "python",
   "nbconvert_exporter": "python",
   "pygments_lexer": "ipython3",
   "version": "3.6.7"
  }
 },
 "nbformat": 4,
 "nbformat_minor": 2
}
